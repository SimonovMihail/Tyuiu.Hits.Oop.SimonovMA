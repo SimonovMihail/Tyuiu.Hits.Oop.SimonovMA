{
 "cells": [
  {
   "cell_type": "markdown",
   "metadata": {},
   "source": [
    "<h1 style=\"color:DodgerBlue\">Индивидальный проект</h1>"
   ]
  },
  {
   "cell_type": "markdown",
   "metadata": {},
   "source": [
    "<h2 style=\"color:DodgerBlue\">Название проекта:</h2>\n",
    "\n",
    "----\n",
    "\n",
    "### Вариант задания №19\n"
   ]
  },
  {
   "cell_type": "markdown",
   "metadata": {},
   "source": [
    "<h2 style=\"color:DodgerBlue\">Описание проекта:</h2>\n",
    "\n",
    "----\n",
    "\n",
    "Создать базовый класс Subscription в C#, который будет представлять подписки на\n",
    "различные услуги. На основе этого класса разработать 2-3 производных класса,\n",
    "демонстрирующих принципы наследования и полиморфизма. В каждом из классов\n",
    "должны быть реализованы новые атрибуты и методы, а также переопределены\n",
    "некоторые методы базового класса для демонстрации полиморфизма.\n"
   ]
  },
  {
   "cell_type": "markdown",
   "metadata": {},
   "source": [
    "<h2 style=\"color:DodgerBlue\">Реализация:</h2>\n",
    "\n",
    "----"
   ]
  },
  {
   "cell_type": "code",
   "execution_count": null,
   "metadata": {
    "dotnet_interactive": {
     "language": "csharp"
    },
    "polyglot_notebook": {
     "kernelName": "csharp"
    }
   },
   "outputs": [
    {
     "name": "stdout",
     "output_type": "stream",
     "text": [
      "--- Демонстрация работы с подписками ---\n",
      "\n",
      "ID: 101, Услуга: Облачное хранилище, Базовая стоимость: ¤5.00\n",
      "Итоговая ежемесячная стоимость: ¤50.00\n",
      "Подписка на 'Облачное хранилище' продлена на 6 мес.\n",
      "------------------------------------------\n",
      "\n",
      "ID: 202, Услуга: Музыкальный сервис, Базовая стоимость: ¤15.00\n",
      "Итоговая ежемесячная стоимость: ¤15.00\n",
      "Подписка на 'Музыкальный сервис' продлена на 6 мес. Специальное предложение: +1 месяц в подарок!\n",
      "------------------------------------------\n",
      "\n",
      "ID: 303, Услуга: Кинотеатр онлайн, Базовая стоимость: ¤25.00, Качество видео: 4K Ultra HD\n",
      "Итоговая ежемесячная стоимость: ¤25.00\n",
      "Подписка на 'Кинотеатр онлайн' продлена на 6 мес.\n",
      "------------------------------------------\n",
      "\n"
     ]
    }
   ],
   "source": [
    "public class Subscription\n",
    "{\n",
    "    public int SubscriptionId { get; set; } // через get set реализуем инкапсуляцию\n",
    "    public string ServiceName { get; set; } // т.к. данные не выставлены всем \"напоказ\" а контроллируются через эти аксессоры.\n",
    "    public double Cost { get; set; } // можно будет ещё вписать внутрь логику, какие данные будут приниматься, если это понадобится.\n",
    "\n",
    "    public Subscription(int id, string serviceName, double cost) // конструктор для инициализации объекта\n",
    "    {\n",
    "        SubscriptionId = id;\n",
    "        ServiceName = serviceName;\n",
    "        Cost = cost;\n",
    "    }\n",
    "\n",
    "    public virtual double CalculateMonthlyCost()\n",
    "    {\n",
    "        return Cost;\n",
    "    }\n",
    "\n",
    "    public virtual void ExtendSubscription(int months)\n",
    "    {\n",
    "        Console.WriteLine($\"Подписка на '{ServiceName}' продлена на {months} мес.\");\n",
    "    }\n",
    "\n",
    "    public virtual string GetSubscriptionDetails()\n",
    "    {\n",
    "        return $\"ID: {SubscriptionId}, Услуга: {ServiceName}, Базовая стоимость: {Cost:C}\";\n",
    "    }\n",
    "}\n",
    "\n",
    "public class OnlineServiceSubscription : Subscription\n",
    "{\n",
    "    public int MaxUsers { get; set; }\n",
    "\n",
    "    public OnlineServiceSubscription(int id, string serviceName, double costPerUser, int maxUsers) // конструктор дочернего класса, который вызывает конструктор базового класса\n",
    "        : base(id, serviceName, costPerUser)\n",
    "    { // работает как \"сначала вызови мне конструктор базового класса чтобы получить эти три значения, и только ПОТОМ работай\"\n",
    "        MaxUsers = maxUsers; // это гарантирует, что в нашем объекте будут сначала все важные свойства базового объекта, и только потом дополнительные, как вот этот\n",
    "    }\n",
    "\n",
    "    public override double CalculateMonthlyCost()\n",
    "    {\n",
    "        return Cost * MaxUsers;\n",
    "    }\n",
    "}\n",
    "\n",
    "public class StreamingSubscription : Subscription\n",
    "{\n",
    "    public int MaxStreams { get; set; }\n",
    "\n",
    "    public StreamingSubscription(int id, string serviceName, double cost, int maxStreams)\n",
    "        : base(id, serviceName, cost)\n",
    "    {\n",
    "        MaxStreams = maxStreams;\n",
    "    }\n",
    "\n",
    "    public override void ExtendSubscription(int months)\n",
    "    {\n",
    "        Console.WriteLine($\"Подписка на '{ServiceName}' продлена на {months} мес. Специальное предложение: +1 месяц в подарок!\");\n",
    "    }\n",
    "}\n",
    "\n",
    "public class VideoSubscription : Subscription\n",
    "{\n",
    "    public string VideoQuality { get; set; }\n",
    "\n",
    "    public VideoSubscription(int id, string serviceName, double cost, string videoQuality)\n",
    "        : base(id, serviceName, cost)\n",
    "    {\n",
    "        VideoQuality = videoQuality;\n",
    "    }\n",
    "\n",
    "    public override string GetSubscriptionDetails() // перезапись метода для расчета стоимости (полиморфизм)\n",
    "    {\n",
    "        return base.GetSubscriptionDetails() + $\", Качество видео: {VideoQuality}\"; // вызываем базовый метод и добавляем свою информацию\n",
    "    }\n",
    "}\n",
    "\n",
    "\n",
    "List<Subscription> subscriptions = new List<Subscription>(); // cоздаем список для хранения различных подписок (демонстрация полиморфизма)\n",
    "// эта конструкция определяет, что у любой подписки есть методы CalculateMonthlyCost и GetSubscriptionDetails.\n",
    "\n",
    "// Создаем несколько экземпляров (объектов) разных классов\n",
    "subscriptions.Add(new OnlineServiceSubscription(101, \"Облачное хранилище\", 5.0, 10));\n",
    "subscriptions.Add(new StreamingSubscription(202, \"Музыкальный сервис\", 15.0, 4));\n",
    "subscriptions.Add(new VideoSubscription(303, \"Кинотеатр онлайн\", 25.0, \"4K Ultra HD\"));\n",
    "\n",
    "Console.WriteLine(\"--- Демонстрация работы с подписками ---\\n\");\n",
    "\n",
    "// обрабатываем все подписки в цикле\n",
    "foreach (var sub in subscriptions)\n",
    "{\n",
    "    // вызываем методы для каждого объекта.\n",
    "    // будет вызван правильный (переопределенный) метод для каждого типа подписки.\n",
    "    Console.WriteLine(sub.GetSubscriptionDetails());\n",
    "    Console.WriteLine($\"Итоговая ежемесячная стоимость: {sub.CalculateMonthlyCost():C}\");\n",
    "    sub.ExtendSubscription(6);\n",
    "    Console.WriteLine(\"------------------------------------------\\n\");\n",
    "}"
   ]
  }
 ],
 "metadata": {
  "kernelspec": {
   "display_name": ".NET (C#)",
   "language": "C#",
   "name": ".net-csharp"
  },
  "polyglot_notebook": {
   "kernelInfo": {
    "defaultKernelName": "csharp",
    "items": [
     {
      "aliases": [],
      "languageName": "csharp",
      "name": "csharp"
     }
    ]
   }
  }
 },
 "nbformat": 4,
 "nbformat_minor": 2
}
